{
 "cells": [
  {
   "cell_type": "code",
   "execution_count": 1,
   "metadata": {},
   "outputs": [],
   "source": [
    "import pandas as pd\n",
    "import numpy as np\n",
    "import seaborn as sns\n",
    "import matplotlib.pyplot as plt\n",
    "from sklearn.preprocessing import StandardScaler"
   ]
  },
  {
   "cell_type": "code",
   "execution_count": 2,
   "metadata": {},
   "outputs": [],
   "source": [
    "from sklearn.ensemble import AdaBoostRegressor,GradientBoostingRegressor,ExtraTreesRegressor\n",
    "from sklearn.model_selection import cross_val_score,KFold\n",
    "from xgboost import XGBRegressor\n",
    "from lightgbm import LGBMRegressor"
   ]
  },
  {
   "cell_type": "code",
   "execution_count": 3,
   "metadata": {},
   "outputs": [],
   "source": [
    "train=pd.read_csv('D:\\Train_tum.csv')\n",
    "test=pd.read_csv('D:\\Test_tum.csv')  "
   ]
  },
  {
   "cell_type": "code",
   "execution_count": 4,
   "metadata": {},
   "outputs": [
    {
     "data": {
      "text/html": [
       "<div>\n",
       "<style scoped>\n",
       "    .dataframe tbody tr th:only-of-type {\n",
       "        vertical-align: middle;\n",
       "    }\n",
       "\n",
       "    .dataframe tbody tr th {\n",
       "        vertical-align: top;\n",
       "    }\n",
       "\n",
       "    .dataframe thead th {\n",
       "        text-align: right;\n",
       "    }\n",
       "</style>\n",
       "<table border=\"1\" class=\"dataframe\">\n",
       "  <thead>\n",
       "    <tr style=\"text-align: right;\">\n",
       "      <th></th>\n",
       "      <th>mass_npea</th>\n",
       "      <th>size_npear</th>\n",
       "      <th>malign_ratio</th>\n",
       "      <th>damage_size</th>\n",
       "      <th>exposed_area</th>\n",
       "      <th>std_dev_malign</th>\n",
       "      <th>err_malign</th>\n",
       "      <th>malign_penalty</th>\n",
       "      <th>damage_ratio</th>\n",
       "      <th>tumor_size</th>\n",
       "    </tr>\n",
       "  </thead>\n",
       "  <tbody>\n",
       "    <tr>\n",
       "      <td>0</td>\n",
       "      <td>6930.90</td>\n",
       "      <td>2919.02</td>\n",
       "      <td>0.42116</td>\n",
       "      <td>51.8298</td>\n",
       "      <td>9.888294e+05</td>\n",
       "      <td>109.487</td>\n",
       "      <td>2758.76</td>\n",
       "      <td>72</td>\n",
       "      <td>39.3620</td>\n",
       "      <td>14.103</td>\n",
       "    </tr>\n",
       "    <tr>\n",
       "      <td>1</td>\n",
       "      <td>15635.70</td>\n",
       "      <td>4879.36</td>\n",
       "      <td>0.31206</td>\n",
       "      <td>223.5500</td>\n",
       "      <td>2.058426e+06</td>\n",
       "      <td>248.881</td>\n",
       "      <td>5952.53</td>\n",
       "      <td>240</td>\n",
       "      <td>22.0253</td>\n",
       "      <td>2.648</td>\n",
       "    </tr>\n",
       "    <tr>\n",
       "      <td>2</td>\n",
       "      <td>10376.20</td>\n",
       "      <td>2613.88</td>\n",
       "      <td>0.25191</td>\n",
       "      <td>127.3370</td>\n",
       "      <td>1.434676e+06</td>\n",
       "      <td>160.093</td>\n",
       "      <td>4635.26</td>\n",
       "      <td>73</td>\n",
       "      <td>29.9963</td>\n",
       "      <td>1.688</td>\n",
       "    </tr>\n",
       "    <tr>\n",
       "      <td>3</td>\n",
       "      <td>13093.80</td>\n",
       "      <td>4510.06</td>\n",
       "      <td>0.34444</td>\n",
       "      <td>155.4400</td>\n",
       "      <td>1.812195e+06</td>\n",
       "      <td>173.015</td>\n",
       "      <td>5273.87</td>\n",
       "      <td>32</td>\n",
       "      <td>28.1354</td>\n",
       "      <td>3.796</td>\n",
       "    </tr>\n",
       "    <tr>\n",
       "      <td>4</td>\n",
       "      <td>7545.21</td>\n",
       "      <td>2882.36</td>\n",
       "      <td>0.38201</td>\n",
       "      <td>85.1237</td>\n",
       "      <td>1.043918e+06</td>\n",
       "      <td>124.414</td>\n",
       "      <td>3263.35</td>\n",
       "      <td>57</td>\n",
       "      <td>35.0200</td>\n",
       "      <td>18.023</td>\n",
       "    </tr>\n",
       "  </tbody>\n",
       "</table>\n",
       "</div>"
      ],
      "text/plain": [
       "   mass_npea  size_npear  malign_ratio  damage_size  exposed_area  \\\n",
       "0    6930.90     2919.02       0.42116      51.8298  9.888294e+05   \n",
       "1   15635.70     4879.36       0.31206     223.5500  2.058426e+06   \n",
       "2   10376.20     2613.88       0.25191     127.3370  1.434676e+06   \n",
       "3   13093.80     4510.06       0.34444     155.4400  1.812195e+06   \n",
       "4    7545.21     2882.36       0.38201      85.1237  1.043918e+06   \n",
       "\n",
       "   std_dev_malign  err_malign  malign_penalty  damage_ratio  tumor_size  \n",
       "0         109.487     2758.76              72       39.3620      14.103  \n",
       "1         248.881     5952.53             240       22.0253       2.648  \n",
       "2         160.093     4635.26              73       29.9963       1.688  \n",
       "3         173.015     5273.87              32       28.1354       3.796  \n",
       "4         124.414     3263.35              57       35.0200      18.023  "
      ]
     },
     "execution_count": 4,
     "metadata": {},
     "output_type": "execute_result"
    }
   ],
   "source": [
    "train.head()"
   ]
  },
  {
   "cell_type": "code",
   "execution_count": 5,
   "metadata": {},
   "outputs": [
    {
     "data": {
      "text/html": [
       "<div>\n",
       "<style scoped>\n",
       "    .dataframe tbody tr th:only-of-type {\n",
       "        vertical-align: middle;\n",
       "    }\n",
       "\n",
       "    .dataframe tbody tr th {\n",
       "        vertical-align: top;\n",
       "    }\n",
       "\n",
       "    .dataframe thead th {\n",
       "        text-align: right;\n",
       "    }\n",
       "</style>\n",
       "<table border=\"1\" class=\"dataframe\">\n",
       "  <thead>\n",
       "    <tr style=\"text-align: right;\">\n",
       "      <th></th>\n",
       "      <th>mass_npea</th>\n",
       "      <th>size_npear</th>\n",
       "      <th>malign_ratio</th>\n",
       "      <th>damage_size</th>\n",
       "      <th>exposed_area</th>\n",
       "      <th>std_dev_malign</th>\n",
       "      <th>err_malign</th>\n",
       "      <th>malign_penalty</th>\n",
       "      <th>damage_ratio</th>\n",
       "    </tr>\n",
       "  </thead>\n",
       "  <tbody>\n",
       "    <tr>\n",
       "      <td>0</td>\n",
       "      <td>4946.44</td>\n",
       "      <td>914.06</td>\n",
       "      <td>0.18479</td>\n",
       "      <td>54.5566</td>\n",
       "      <td>6.628345e+05</td>\n",
       "      <td>67.0525</td>\n",
       "      <td>2301.76</td>\n",
       "      <td>22</td>\n",
       "      <td>41.9554</td>\n",
       "    </tr>\n",
       "    <tr>\n",
       "      <td>1</td>\n",
       "      <td>5613.85</td>\n",
       "      <td>1629.12</td>\n",
       "      <td>0.29019</td>\n",
       "      <td>51.5524</td>\n",
       "      <td>7.842271e+05</td>\n",
       "      <td>80.1986</td>\n",
       "      <td>3235.00</td>\n",
       "      <td>48</td>\n",
       "      <td>40.7410</td>\n",
       "    </tr>\n",
       "    <tr>\n",
       "      <td>2</td>\n",
       "      <td>12421.10</td>\n",
       "      <td>3062.41</td>\n",
       "      <td>0.24654</td>\n",
       "      <td>154.1560</td>\n",
       "      <td>1.763575e+06</td>\n",
       "      <td>186.8590</td>\n",
       "      <td>4684.63</td>\n",
       "      <td>63</td>\n",
       "      <td>29.4778</td>\n",
       "    </tr>\n",
       "    <tr>\n",
       "      <td>3</td>\n",
       "      <td>6830.77</td>\n",
       "      <td>2457.66</td>\n",
       "      <td>0.35979</td>\n",
       "      <td>56.8995</td>\n",
       "      <td>9.296623e+05</td>\n",
       "      <td>92.7361</td>\n",
       "      <td>3211.93</td>\n",
       "      <td>42</td>\n",
       "      <td>38.5027</td>\n",
       "    </tr>\n",
       "    <tr>\n",
       "      <td>4</td>\n",
       "      <td>33407.80</td>\n",
       "      <td>12353.60</td>\n",
       "      <td>0.36978</td>\n",
       "      <td>219.0740</td>\n",
       "      <td>4.595871e+06</td>\n",
       "      <td>493.3370</td>\n",
       "      <td>13389.36</td>\n",
       "      <td>187</td>\n",
       "      <td>26.8449</td>\n",
       "    </tr>\n",
       "  </tbody>\n",
       "</table>\n",
       "</div>"
      ],
      "text/plain": [
       "   mass_npea  size_npear  malign_ratio  damage_size  exposed_area  \\\n",
       "0    4946.44      914.06       0.18479      54.5566  6.628345e+05   \n",
       "1    5613.85     1629.12       0.29019      51.5524  7.842271e+05   \n",
       "2   12421.10     3062.41       0.24654     154.1560  1.763575e+06   \n",
       "3    6830.77     2457.66       0.35979      56.8995  9.296623e+05   \n",
       "4   33407.80    12353.60       0.36978     219.0740  4.595871e+06   \n",
       "\n",
       "   std_dev_malign  err_malign  malign_penalty  damage_ratio  \n",
       "0         67.0525     2301.76              22       41.9554  \n",
       "1         80.1986     3235.00              48       40.7410  \n",
       "2        186.8590     4684.63              63       29.4778  \n",
       "3         92.7361     3211.93              42       38.5027  \n",
       "4        493.3370    13389.36             187       26.8449  "
      ]
     },
     "execution_count": 5,
     "metadata": {},
     "output_type": "execute_result"
    }
   ],
   "source": [
    "test.head()"
   ]
  },
  {
   "cell_type": "code",
   "execution_count": 6,
   "metadata": {},
   "outputs": [
    {
     "name": "stdout",
     "output_type": "stream",
     "text": [
      "<class 'pandas.core.frame.DataFrame'>\n",
      "RangeIndex: 9146 entries, 0 to 9145\n",
      "Data columns (total 10 columns):\n",
      "mass_npea         9146 non-null float64\n",
      "size_npear        9146 non-null float64\n",
      "malign_ratio      9146 non-null float64\n",
      "damage_size       9146 non-null float64\n",
      "exposed_area      9146 non-null float64\n",
      "std_dev_malign    9146 non-null float64\n",
      "err_malign        9146 non-null float64\n",
      "malign_penalty    9146 non-null int64\n",
      "damage_ratio      9146 non-null float64\n",
      "tumor_size        9146 non-null float64\n",
      "dtypes: float64(9), int64(1)\n",
      "memory usage: 714.7 KB\n"
     ]
    }
   ],
   "source": [
    "train.info()"
   ]
  },
  {
   "cell_type": "code",
   "execution_count": 7,
   "metadata": {},
   "outputs": [
    {
     "data": {
      "text/plain": [
       "<matplotlib.axes._subplots.AxesSubplot at 0xcf1b648>"
      ]
     },
     "execution_count": 7,
     "metadata": {},
     "output_type": "execute_result"
    },
    {
     "data": {
      "image/png": "[encoded data removed]",
      "text/plain": [
       "<Figure size 432x288 with 1 Axes>"
      ]
     },
     "metadata": {
      "needs_background": "light"
     },
     "output_type": "display_data"
    }
   ],
   "source": [
    "sns.distplot(train['tumor_size'])"
   ]
  },
  {
   "cell_type": "code",
   "execution_count": 8,
   "metadata": {},
   "outputs": [
    {
     "data": {
      "text/html": [
       "<div>\n",
       "<style scoped>\n",
       "    .dataframe tbody tr th:only-of-type {\n",
       "        vertical-align: middle;\n",
       "    }\n",
       "\n",
       "    .dataframe tbody tr th {\n",
       "        vertical-align: top;\n",
       "    }\n",
       "\n",
       "    .dataframe thead th {\n",
       "        text-align: right;\n",
       "    }\n",
       "</style>\n",
       "<table border=\"1\" class=\"dataframe\">\n",
       "  <thead>\n",
       "    <tr style=\"text-align: right;\">\n",
       "      <th></th>\n",
       "      <th>mass_npea</th>\n",
       "      <th>size_npear</th>\n",
       "      <th>malign_ratio</th>\n",
       "      <th>damage_size</th>\n",
       "      <th>exposed_area</th>\n",
       "      <th>std_dev_malign</th>\n",
       "      <th>err_malign</th>\n",
       "      <th>malign_penalty</th>\n",
       "      <th>damage_ratio</th>\n",
       "      <th>tumor_size</th>\n",
       "    </tr>\n",
       "  </thead>\n",
       "  <tbody>\n",
       "    <tr>\n",
       "      <td>mass_npea</td>\n",
       "      <td>1.000000</td>\n",
       "      <td>0.907335</td>\n",
       "      <td>0.123411</td>\n",
       "      <td>0.930691</td>\n",
       "      <td>0.998167</td>\n",
       "      <td>0.968006</td>\n",
       "      <td>0.617207</td>\n",
       "      <td>0.654849</td>\n",
       "      <td>-0.901106</td>\n",
       "      <td>-0.004679</td>\n",
       "    </tr>\n",
       "    <tr>\n",
       "      <td>size_npear</td>\n",
       "      <td>0.907335</td>\n",
       "      <td>1.000000</td>\n",
       "      <td>0.499398</td>\n",
       "      <td>0.794096</td>\n",
       "      <td>0.903502</td>\n",
       "      <td>0.907932</td>\n",
       "      <td>0.570343</td>\n",
       "      <td>0.593019</td>\n",
       "      <td>-0.791768</td>\n",
       "      <td>0.164761</td>\n",
       "    </tr>\n",
       "    <tr>\n",
       "      <td>malign_ratio</td>\n",
       "      <td>0.123411</td>\n",
       "      <td>0.499398</td>\n",
       "      <td>1.000000</td>\n",
       "      <td>0.029167</td>\n",
       "      <td>0.119389</td>\n",
       "      <td>0.196430</td>\n",
       "      <td>0.081228</td>\n",
       "      <td>0.102475</td>\n",
       "      <td>-0.068605</td>\n",
       "      <td>0.374273</td>\n",
       "    </tr>\n",
       "    <tr>\n",
       "      <td>damage_size</td>\n",
       "      <td>0.930691</td>\n",
       "      <td>0.794096</td>\n",
       "      <td>0.029167</td>\n",
       "      <td>1.000000</td>\n",
       "      <td>0.925266</td>\n",
       "      <td>0.938202</td>\n",
       "      <td>0.535834</td>\n",
       "      <td>0.676904</td>\n",
       "      <td>-0.892006</td>\n",
       "      <td>-0.163804</td>\n",
       "    </tr>\n",
       "    <tr>\n",
       "      <td>exposed_area</td>\n",
       "      <td>0.998167</td>\n",
       "      <td>0.903502</td>\n",
       "      <td>0.119389</td>\n",
       "      <td>0.925266</td>\n",
       "      <td>1.000000</td>\n",
       "      <td>0.962462</td>\n",
       "      <td>0.617149</td>\n",
       "      <td>0.646444</td>\n",
       "      <td>-0.900717</td>\n",
       "      <td>-0.003641</td>\n",
       "    </tr>\n",
       "    <tr>\n",
       "      <td>std_dev_malign</td>\n",
       "      <td>0.968006</td>\n",
       "      <td>0.907932</td>\n",
       "      <td>0.196430</td>\n",
       "      <td>0.938202</td>\n",
       "      <td>0.962462</td>\n",
       "      <td>1.000000</td>\n",
       "      <td>0.597842</td>\n",
       "      <td>0.667264</td>\n",
       "      <td>-0.884481</td>\n",
       "      <td>-0.030085</td>\n",
       "    </tr>\n",
       "    <tr>\n",
       "      <td>err_malign</td>\n",
       "      <td>0.617207</td>\n",
       "      <td>0.570343</td>\n",
       "      <td>0.081228</td>\n",
       "      <td>0.535834</td>\n",
       "      <td>0.617149</td>\n",
       "      <td>0.597842</td>\n",
       "      <td>1.000000</td>\n",
       "      <td>0.381454</td>\n",
       "      <td>-0.583945</td>\n",
       "      <td>0.004484</td>\n",
       "    </tr>\n",
       "    <tr>\n",
       "      <td>malign_penalty</td>\n",
       "      <td>0.654849</td>\n",
       "      <td>0.593019</td>\n",
       "      <td>0.102475</td>\n",
       "      <td>0.676904</td>\n",
       "      <td>0.646444</td>\n",
       "      <td>0.667264</td>\n",
       "      <td>0.381454</td>\n",
       "      <td>1.000000</td>\n",
       "      <td>-0.646893</td>\n",
       "      <td>0.011871</td>\n",
       "    </tr>\n",
       "    <tr>\n",
       "      <td>damage_ratio</td>\n",
       "      <td>-0.901106</td>\n",
       "      <td>-0.791768</td>\n",
       "      <td>-0.068605</td>\n",
       "      <td>-0.892006</td>\n",
       "      <td>-0.900717</td>\n",
       "      <td>-0.884481</td>\n",
       "      <td>-0.583945</td>\n",
       "      <td>-0.646893</td>\n",
       "      <td>1.000000</td>\n",
       "      <td>0.054892</td>\n",
       "    </tr>\n",
       "    <tr>\n",
       "      <td>tumor_size</td>\n",
       "      <td>-0.004679</td>\n",
       "      <td>0.164761</td>\n",
       "      <td>0.374273</td>\n",
       "      <td>-0.163804</td>\n",
       "      <td>-0.003641</td>\n",
       "      <td>-0.030085</td>\n",
       "      <td>0.004484</td>\n",
       "      <td>0.011871</td>\n",
       "      <td>0.054892</td>\n",
       "      <td>1.000000</td>\n",
       "    </tr>\n",
       "  </tbody>\n",
       "</table>\n",
       "</div>"
      ],
      "text/plain": [
       "                mass_npea  size_npear  malign_ratio  damage_size  \\\n",
       "mass_npea        1.000000    0.907335      0.123411     0.930691   \n",
       "size_npear       0.907335    1.000000      0.499398     0.794096   \n",
       "malign_ratio     0.123411    0.499398      1.000000     0.029167   \n",
       "damage_size      0.930691    0.794096      0.029167     1.000000   \n",
       "exposed_area     0.998167    0.903502      0.119389     0.925266   \n",
       "std_dev_malign   0.968006    0.907932      0.196430     0.938202   \n",
       "err_malign       0.617207    0.570343      0.081228     0.535834   \n",
       "malign_penalty   0.654849    0.593019      0.102475     0.676904   \n",
       "damage_ratio    -0.901106   -0.791768     -0.068605    -0.892006   \n",
       "tumor_size      -0.004679    0.164761      0.374273    -0.163804   \n",
       "\n",
       "                exposed_area  std_dev_malign  err_malign  malign_penalty  \\\n",
       "mass_npea           0.998167        0.968006    0.617207        0.654849   \n",
       "size_npear          0.903502        0.907932    0.570343        0.593019   \n",
       "malign_ratio        0.119389        0.196430    0.081228        0.102475   \n",
       "damage_size         0.925266        0.938202    0.535834        0.676904   \n",
       "exposed_area        1.000000        0.962462    0.617149        0.646444   \n",
       "std_dev_malign      0.962462        1.000000    0.597842        0.667264   \n",
       "err_malign          0.617149        0.597842    1.000000        0.381454   \n",
       "malign_penalty      0.646444        0.667264    0.381454        1.000000   \n",
       "damage_ratio       -0.900717       -0.884481   -0.583945       -0.646893   \n",
       "tumor_size         -0.003641       -0.030085    0.004484        0.011871   \n",
       "\n",
       "                damage_ratio  tumor_size  \n",
       "mass_npea          -0.901106   -0.004679  \n",
       "size_npear         -0.791768    0.164761  \n",
       "malign_ratio       -0.068605    0.374273  \n",
       "damage_size        -0.892006   -0.163804  \n",
       "exposed_area       -0.900717   -0.003641  \n",
       "std_dev_malign     -0.884481   -0.030085  \n",
       "err_malign         -0.583945    0.004484  \n",
       "malign_penalty     -0.646893    0.011871  \n",
       "damage_ratio        1.000000    0.054892  \n",
       "tumor_size          0.054892    1.000000  "
      ]
     },
     "execution_count": 8,
     "metadata": {},
     "output_type": "execute_result"
    }
   ],
   "source": [
    "train.corr()"
   ]
  },
  {
   "cell_type": "code",
   "execution_count": 5,
   "metadata": {},
   "outputs": [],
   "source": [
    "sc = StandardScaler()\n",
    "train1 = train.drop('tumor_size',axis = 1)\n",
    "\n",
    "trains = sc.fit_transform(train1)\n",
    "tests = sc.transform(test)\n",
    "y = train['tumor_size']"
   ]
  },
  {
   "cell_type": "code",
   "execution_count": 7,
   "metadata": {},
   "outputs": [
    {
     "data": {
      "text/html": [
       "<table class=\"simpletable\">\n",
       "<caption>OLS Regression Results</caption>\n",
       "<tr>\n",
       "  <th>Dep. Variable:</th>       <td>tumor_size</td>    <th>  R-squared:         </th> <td>   0.289</td> \n",
       "</tr>\n",
       "<tr>\n",
       "  <th>Model:</th>                   <td>OLS</td>       <th>  Adj. R-squared:    </th> <td>   0.289</td> \n",
       "</tr>\n",
       "<tr>\n",
       "  <th>Method:</th>             <td>Least Squares</td>  <th>  F-statistic:       </th> <td>   413.1</td> \n",
       "</tr>\n",
       "<tr>\n",
       "  <th>Date:</th>             <td>Sat, 08 Aug 2020</td> <th>  Prob (F-statistic):</th>  <td>  0.00</td>  \n",
       "</tr>\n",
       "<tr>\n",
       "  <th>Time:</th>                 <td>20:40:15</td>     <th>  Log-Likelihood:    </th> <td> -27935.</td> \n",
       "</tr>\n",
       "<tr>\n",
       "  <th>No. Observations:</th>      <td>  9146</td>      <th>  AIC:               </th> <td>5.589e+04</td>\n",
       "</tr>\n",
       "<tr>\n",
       "  <th>Df Residuals:</th>          <td>  9136</td>      <th>  BIC:               </th> <td>5.596e+04</td>\n",
       "</tr>\n",
       "<tr>\n",
       "  <th>Df Model:</th>              <td>     9</td>      <th>                     </th>     <td> </td>    \n",
       "</tr>\n",
       "<tr>\n",
       "  <th>Covariance Type:</th>      <td>nonrobust</td>    <th>                     </th>     <td> </td>    \n",
       "</tr>\n",
       "</table>\n",
       "<table class=\"simpletable\">\n",
       "<tr>\n",
       "    <td></td>       <th>coef</th>     <th>std err</th>      <th>t</th>      <th>P>|t|</th>  <th>[0.025</th>    <th>0.975]</th>  \n",
       "</tr>\n",
       "<tr>\n",
       "  <th>const</th> <td>    7.7233</td> <td>    0.054</td> <td>  143.864</td> <td> 0.000</td> <td>    7.618</td> <td>    7.829</td>\n",
       "</tr>\n",
       "<tr>\n",
       "  <th>x1</th>    <td>    7.4056</td> <td>    1.100</td> <td>    6.730</td> <td> 0.000</td> <td>    5.249</td> <td>    9.563</td>\n",
       "</tr>\n",
       "<tr>\n",
       "  <th>x2</th>    <td>    1.7718</td> <td>    0.369</td> <td>    4.805</td> <td> 0.000</td> <td>    1.049</td> <td>    2.495</td>\n",
       "</tr>\n",
       "<tr>\n",
       "  <th>x3</th>    <td>    1.2402</td> <td>    0.150</td> <td>    8.283</td> <td> 0.000</td> <td>    0.947</td> <td>    1.534</td>\n",
       "</tr>\n",
       "<tr>\n",
       "  <th>x4</th>    <td>   -6.0605</td> <td>    0.201</td> <td>  -30.113</td> <td> 0.000</td> <td>   -6.455</td> <td>   -5.666</td>\n",
       "</tr>\n",
       "<tr>\n",
       "  <th>x5</th>    <td>   -2.5230</td> <td>    0.936</td> <td>   -2.695</td> <td> 0.007</td> <td>   -4.358</td> <td>   -0.688</td>\n",
       "</tr>\n",
       "<tr>\n",
       "  <th>x6</th>    <td>   -1.9327</td> <td>    0.271</td> <td>   -7.129</td> <td> 0.000</td> <td>   -2.464</td> <td>   -1.401</td>\n",
       "</tr>\n",
       "<tr>\n",
       "  <th>x7</th>    <td>   -0.3327</td> <td>    0.070</td> <td>   -4.765</td> <td> 0.000</td> <td>   -0.470</td> <td>   -0.196</td>\n",
       "</tr>\n",
       "<tr>\n",
       "  <th>x8</th>    <td>    0.8454</td> <td>    0.075</td> <td>   11.330</td> <td> 0.000</td> <td>    0.699</td> <td>    0.992</td>\n",
       "</tr>\n",
       "<tr>\n",
       "  <th>x9</th>    <td>   -0.5400</td> <td>    0.135</td> <td>   -4.013</td> <td> 0.000</td> <td>   -0.804</td> <td>   -0.276</td>\n",
       "</tr>\n",
       "</table>\n",
       "<table class=\"simpletable\">\n",
       "<tr>\n",
       "  <th>Omnibus:</th>       <td>339.208</td> <th>  Durbin-Watson:     </th> <td>   2.046</td>\n",
       "</tr>\n",
       "<tr>\n",
       "  <th>Prob(Omnibus):</th> <td> 0.000</td>  <th>  Jarque-Bera (JB):  </th> <td> 339.712</td>\n",
       "</tr>\n",
       "<tr>\n",
       "  <th>Skew:</th>          <td> 0.438</td>  <th>  Prob(JB):          </th> <td>1.71e-74</td>\n",
       "</tr>\n",
       "<tr>\n",
       "  <th>Kurtosis:</th>      <td> 2.646</td>  <th>  Cond. No.          </th> <td>    67.6</td>\n",
       "</tr>\n",
       "</table><br/><br/>Warnings:<br/>[1] Standard Errors assume that the covariance matrix of the errors is correctly specified."
      ],
      "text/plain": [
       "<class 'statsmodels.iolib.summary.Summary'>\n",
       "\"\"\"\n",
       "                            OLS Regression Results                            \n",
       "==============================================================================\n",
       "Dep. Variable:             tumor_size   R-squared:                       0.289\n",
       "Model:                            OLS   Adj. R-squared:                  0.289\n",
       "Method:                 Least Squares   F-statistic:                     413.1\n",
       "Date:                Sat, 08 Aug 2020   Prob (F-statistic):               0.00\n",
       "Time:                        20:40:15   Log-Likelihood:                -27935.\n",
       "No. Observations:                9146   AIC:                         5.589e+04\n",
       "Df Residuals:                    9136   BIC:                         5.596e+04\n",
       "Df Model:                           9                                         \n",
       "Covariance Type:            nonrobust                                         \n",
       "==============================================================================\n",
       "                 coef    std err          t      P>|t|      [0.025      0.975]\n",
       "------------------------------------------------------------------------------\n",
       "const          7.7233      0.054    143.864      0.000       7.618       7.829\n",
       "x1             7.4056      1.100      6.730      0.000       5.249       9.563\n",
       "x2             1.7718      0.369      4.805      0.000       1.049       2.495\n",
       "x3             1.2402      0.150      8.283      0.000       0.947       1.534\n",
       "x4            -6.0605      0.201    -30.113      0.000      -6.455      -5.666\n",
       "x5            -2.5230      0.936     -2.695      0.007      -4.358      -0.688\n",
       "x6            -1.9327      0.271     -7.129      0.000      -2.464      -1.401\n",
       "x7            -0.3327      0.070     -4.765      0.000      -0.470      -0.196\n",
       "x8             0.8454      0.075     11.330      0.000       0.699       0.992\n",
       "x9            -0.5400      0.135     -4.013      0.000      -0.804      -0.276\n",
       "==============================================================================\n",
       "Omnibus:                      339.208   Durbin-Watson:                   2.046\n",
       "Prob(Omnibus):                  0.000   Jarque-Bera (JB):              339.712\n",
       "Skew:                           0.438   Prob(JB):                     1.71e-74\n",
       "Kurtosis:                       2.646   Cond. No.                         67.6\n",
       "==============================================================================\n",
       "\n",
       "Warnings:\n",
       "[1] Standard Errors assume that the covariance matrix of the errors is correctly specified.\n",
       "\"\"\""
      ]
     },
     "execution_count": 7,
     "metadata": {},
     "output_type": "execute_result"
    }
   ],
   "source": [
    "import statsmodels.api as sm\n",
    "X_constant = sm.add_constant(trains)\n",
    "model = sm.OLS(y, X_constant).fit()\n",
    "predictions = model.predict(X_constant)\n",
    "model.summary()"
   ]
  },
  {
   "cell_type": "code",
   "execution_count": 8,
   "metadata": {},
   "outputs": [
    {
     "data": {
      "text/plain": [
       "0       1.362151\n",
       "1      -2.330515\n",
       "2      -2.489963\n",
       "3      -3.786549\n",
       "4       9.205641\n",
       "          ...   \n",
       "9141    3.081378\n",
       "9142    6.592228\n",
       "9143   -2.876140\n",
       "9144    1.614867\n",
       "9145    6.488978\n",
       "Length: 9146, dtype: float64"
      ]
     },
     "execution_count": 8,
     "metadata": {},
     "output_type": "execute_result"
    }
   ],
   "source": [
    "d = train1.copy(deep = True)\n",
    "\n",
    "sns.set(style = 'whitegrid')\n",
    "d['Predictions'] = model.predict(X_constant)\n",
    "residuals = model.resid\n",
    "residuals\n"
   ]
  },
  {
   "cell_type": "code",
   "execution_count": 9,
   "metadata": {},
   "outputs": [
    {
     "ename": "KeyboardInterrupt",
     "evalue": "",
     "output_type": "error",
     "traceback": [
      "\u001b[1;31m---------------------------------------------------------------------------\u001b[0m",
      "\u001b[1;31mKeyboardInterrupt\u001b[0m                         Traceback (most recent call last)",
      "\u001b[1;32m<ipython-input-9-df1b83fd6ad2>\u001b[0m in \u001b[0;36m<module>\u001b[1;34m\u001b[0m\n\u001b[1;32m----> 1\u001b[1;33m \u001b[0max\u001b[0m \u001b[1;33m=\u001b[0m \u001b[0msns\u001b[0m\u001b[1;33m.\u001b[0m\u001b[0mresidplot\u001b[0m\u001b[1;33m(\u001b[0m\u001b[0md\u001b[0m\u001b[1;33m.\u001b[0m\u001b[0mPredictions\u001b[0m\u001b[1;33m,\u001b[0m \u001b[0mresiduals\u001b[0m\u001b[1;33m,\u001b[0m \u001b[0mlowess\u001b[0m \u001b[1;33m=\u001b[0m \u001b[1;32mTrue\u001b[0m\u001b[1;33m,\u001b[0m \u001b[0mcolor\u001b[0m \u001b[1;33m=\u001b[0m \u001b[1;34m'g'\u001b[0m\u001b[1;33m)\u001b[0m\u001b[1;33m\u001b[0m\u001b[1;33m\u001b[0m\u001b[0m\n\u001b[0m\u001b[0;32m      2\u001b[0m \u001b[0max\u001b[0m\u001b[1;33m.\u001b[0m\u001b[0mset\u001b[0m\u001b[1;33m(\u001b[0m\u001b[0mxlabel\u001b[0m \u001b[1;33m=\u001b[0m \u001b[1;34m'Fitted value'\u001b[0m\u001b[1;33m,\u001b[0m \u001b[0mylabel\u001b[0m \u001b[1;33m=\u001b[0m \u001b[1;34m'Residuals'\u001b[0m\u001b[1;33m,\u001b[0m \u001b[0mtitle\u001b[0m \u001b[1;33m=\u001b[0m \u001b[1;34m'Residual vs Fitted Plot \\n'\u001b[0m\u001b[1;33m)\u001b[0m\u001b[1;33m\u001b[0m\u001b[1;33m\u001b[0m\u001b[0m\n\u001b[0;32m      3\u001b[0m \u001b[0mplt\u001b[0m\u001b[1;33m.\u001b[0m\u001b[0mshow\u001b[0m\u001b[1;33m(\u001b[0m\u001b[1;33m)\u001b[0m\u001b[1;33m\u001b[0m\u001b[1;33m\u001b[0m\u001b[0m\n",
      "\u001b[1;32m~\\Anaconda3\\lib\\site-packages\\seaborn\\regression.py\u001b[0m in \u001b[0;36mresidplot\u001b[1;34m(x, y, data, lowess, x_partial, y_partial, order, robust, dropna, label, color, scatter_kws, line_kws, ax)\u001b[0m\n\u001b[0;32m   1037\u001b[0m     \u001b[0mscatter_kws\u001b[0m \u001b[1;33m=\u001b[0m \u001b[1;33m{\u001b[0m\u001b[1;33m}\u001b[0m \u001b[1;32mif\u001b[0m \u001b[0mscatter_kws\u001b[0m \u001b[1;32mis\u001b[0m \u001b[1;32mNone\u001b[0m \u001b[1;32melse\u001b[0m \u001b[0mscatter_kws\u001b[0m\u001b[1;33m\u001b[0m\u001b[1;33m\u001b[0m\u001b[0m\n\u001b[0;32m   1038\u001b[0m     \u001b[0mline_kws\u001b[0m \u001b[1;33m=\u001b[0m \u001b[1;33m{\u001b[0m\u001b[1;33m}\u001b[0m \u001b[1;32mif\u001b[0m \u001b[0mline_kws\u001b[0m \u001b[1;32mis\u001b[0m \u001b[1;32mNone\u001b[0m \u001b[1;32melse\u001b[0m \u001b[0mline_kws\u001b[0m\u001b[1;33m\u001b[0m\u001b[1;33m\u001b[0m\u001b[0m\n\u001b[1;32m-> 1039\u001b[1;33m     \u001b[0mplotter\u001b[0m\u001b[1;33m.\u001b[0m\u001b[0mplot\u001b[0m\u001b[1;33m(\u001b[0m\u001b[0max\u001b[0m\u001b[1;33m,\u001b[0m \u001b[0mscatter_kws\u001b[0m\u001b[1;33m,\u001b[0m \u001b[0mline_kws\u001b[0m\u001b[1;33m)\u001b[0m\u001b[1;33m\u001b[0m\u001b[1;33m\u001b[0m\u001b[0m\n\u001b[0m\u001b[0;32m   1040\u001b[0m     \u001b[1;32mreturn\u001b[0m \u001b[0max\u001b[0m\u001b[1;33m\u001b[0m\u001b[1;33m\u001b[0m\u001b[0m\n",
      "\u001b[1;32m~\\Anaconda3\\lib\\site-packages\\seaborn\\regression.py\u001b[0m in \u001b[0;36mplot\u001b[1;34m(self, ax, scatter_kws, line_kws)\u001b[0m\n\u001b[0;32m    342\u001b[0m             \u001b[0mself\u001b[0m\u001b[1;33m.\u001b[0m\u001b[0mscatterplot\u001b[0m\u001b[1;33m(\u001b[0m\u001b[0max\u001b[0m\u001b[1;33m,\u001b[0m \u001b[0mscatter_kws\u001b[0m\u001b[1;33m)\u001b[0m\u001b[1;33m\u001b[0m\u001b[1;33m\u001b[0m\u001b[0m\n\u001b[0;32m    343\u001b[0m         \u001b[1;32mif\u001b[0m \u001b[0mself\u001b[0m\u001b[1;33m.\u001b[0m\u001b[0mfit_reg\u001b[0m\u001b[1;33m:\u001b[0m\u001b[1;33m\u001b[0m\u001b[1;33m\u001b[0m\u001b[0m\n\u001b[1;32m--> 344\u001b[1;33m             \u001b[0mself\u001b[0m\u001b[1;33m.\u001b[0m\u001b[0mlineplot\u001b[0m\u001b[1;33m(\u001b[0m\u001b[0max\u001b[0m\u001b[1;33m,\u001b[0m \u001b[0mline_kws\u001b[0m\u001b[1;33m)\u001b[0m\u001b[1;33m\u001b[0m\u001b[1;33m\u001b[0m\u001b[0m\n\u001b[0m\u001b[0;32m    345\u001b[0m \u001b[1;33m\u001b[0m\u001b[0m\n\u001b[0;32m    346\u001b[0m         \u001b[1;31m# Label the axes\u001b[0m\u001b[1;33m\u001b[0m\u001b[1;33m\u001b[0m\u001b[1;33m\u001b[0m\u001b[0m\n",
      "\u001b[1;32m~\\Anaconda3\\lib\\site-packages\\seaborn\\regression.py\u001b[0m in \u001b[0;36mlineplot\u001b[1;34m(self, ax, kws)\u001b[0m\n\u001b[0;32m    387\u001b[0m \u001b[1;33m\u001b[0m\u001b[0m\n\u001b[0;32m    388\u001b[0m         \u001b[1;31m# Fit the regression model\u001b[0m\u001b[1;33m\u001b[0m\u001b[1;33m\u001b[0m\u001b[1;33m\u001b[0m\u001b[0m\n\u001b[1;32m--> 389\u001b[1;33m         \u001b[0mgrid\u001b[0m\u001b[1;33m,\u001b[0m \u001b[0myhat\u001b[0m\u001b[1;33m,\u001b[0m \u001b[0merr_bands\u001b[0m \u001b[1;33m=\u001b[0m \u001b[0mself\u001b[0m\u001b[1;33m.\u001b[0m\u001b[0mfit_regression\u001b[0m\u001b[1;33m(\u001b[0m\u001b[0max\u001b[0m\u001b[1;33m)\u001b[0m\u001b[1;33m\u001b[0m\u001b[1;33m\u001b[0m\u001b[0m\n\u001b[0m\u001b[0;32m    390\u001b[0m \u001b[1;33m\u001b[0m\u001b[0m\n\u001b[0;32m    391\u001b[0m         \u001b[1;31m# Get set default aesthetics\u001b[0m\u001b[1;33m\u001b[0m\u001b[1;33m\u001b[0m\u001b[1;33m\u001b[0m\u001b[0m\n",
      "\u001b[1;32m~\\Anaconda3\\lib\\site-packages\\seaborn\\regression.py\u001b[0m in \u001b[0;36mfit_regression\u001b[1;34m(self, ax, x_range, grid)\u001b[0m\n\u001b[0;32m    199\u001b[0m         \u001b[1;32melif\u001b[0m \u001b[0mself\u001b[0m\u001b[1;33m.\u001b[0m\u001b[0mlowess\u001b[0m\u001b[1;33m:\u001b[0m\u001b[1;33m\u001b[0m\u001b[1;33m\u001b[0m\u001b[0m\n\u001b[0;32m    200\u001b[0m             \u001b[0mci\u001b[0m \u001b[1;33m=\u001b[0m \u001b[1;32mNone\u001b[0m\u001b[1;33m\u001b[0m\u001b[1;33m\u001b[0m\u001b[0m\n\u001b[1;32m--> 201\u001b[1;33m             \u001b[0mgrid\u001b[0m\u001b[1;33m,\u001b[0m \u001b[0myhat\u001b[0m \u001b[1;33m=\u001b[0m \u001b[0mself\u001b[0m\u001b[1;33m.\u001b[0m\u001b[0mfit_lowess\u001b[0m\u001b[1;33m(\u001b[0m\u001b[1;33m)\u001b[0m\u001b[1;33m\u001b[0m\u001b[1;33m\u001b[0m\u001b[0m\n\u001b[0m\u001b[0;32m    202\u001b[0m         \u001b[1;32melif\u001b[0m \u001b[0mself\u001b[0m\u001b[1;33m.\u001b[0m\u001b[0mrobust\u001b[0m\u001b[1;33m:\u001b[0m\u001b[1;33m\u001b[0m\u001b[1;33m\u001b[0m\u001b[0m\n\u001b[0;32m    203\u001b[0m             \u001b[1;32mfrom\u001b[0m \u001b[0mstatsmodels\u001b[0m\u001b[1;33m.\u001b[0m\u001b[0mrobust\u001b[0m\u001b[1;33m.\u001b[0m\u001b[0mrobust_linear_model\u001b[0m \u001b[1;32mimport\u001b[0m \u001b[0mRLM\u001b[0m\u001b[1;33m\u001b[0m\u001b[1;33m\u001b[0m\u001b[0m\n",
      "\u001b[1;32m~\\Anaconda3\\lib\\site-packages\\seaborn\\regression.py\u001b[0m in \u001b[0;36mfit_lowess\u001b[1;34m(self)\u001b[0m\n\u001b[0;32m    271\u001b[0m         \u001b[1;34m\"\"\"Fit a locally-weighted regression, which returns its own grid.\"\"\"\u001b[0m\u001b[1;33m\u001b[0m\u001b[1;33m\u001b[0m\u001b[0m\n\u001b[0;32m    272\u001b[0m         \u001b[1;32mfrom\u001b[0m \u001b[0mstatsmodels\u001b[0m\u001b[1;33m.\u001b[0m\u001b[0mnonparametric\u001b[0m\u001b[1;33m.\u001b[0m\u001b[0msmoothers_lowess\u001b[0m \u001b[1;32mimport\u001b[0m \u001b[0mlowess\u001b[0m\u001b[1;33m\u001b[0m\u001b[1;33m\u001b[0m\u001b[0m\n\u001b[1;32m--> 273\u001b[1;33m         \u001b[0mgrid\u001b[0m\u001b[1;33m,\u001b[0m \u001b[0myhat\u001b[0m \u001b[1;33m=\u001b[0m \u001b[0mlowess\u001b[0m\u001b[1;33m(\u001b[0m\u001b[0mself\u001b[0m\u001b[1;33m.\u001b[0m\u001b[0my\u001b[0m\u001b[1;33m,\u001b[0m \u001b[0mself\u001b[0m\u001b[1;33m.\u001b[0m\u001b[0mx\u001b[0m\u001b[1;33m)\u001b[0m\u001b[1;33m.\u001b[0m\u001b[0mT\u001b[0m\u001b[1;33m\u001b[0m\u001b[1;33m\u001b[0m\u001b[0m\n\u001b[0m\u001b[0;32m    274\u001b[0m         \u001b[1;32mreturn\u001b[0m \u001b[0mgrid\u001b[0m\u001b[1;33m,\u001b[0m \u001b[0myhat\u001b[0m\u001b[1;33m\u001b[0m\u001b[1;33m\u001b[0m\u001b[0m\n\u001b[0;32m    275\u001b[0m \u001b[1;33m\u001b[0m\u001b[0m\n",
      "\u001b[1;32m~\\Anaconda3\\lib\\site-packages\\statsmodels\\nonparametric\\smoothers_lowess.py\u001b[0m in \u001b[0;36mlowess\u001b[1;34m(endog, exog, frac, it, delta, is_sorted, missing, return_sorted)\u001b[0m\n\u001b[0;32m    163\u001b[0m         \u001b[0my\u001b[0m \u001b[1;33m=\u001b[0m \u001b[0mnp\u001b[0m\u001b[1;33m.\u001b[0m\u001b[0marray\u001b[0m\u001b[1;33m(\u001b[0m\u001b[0my\u001b[0m\u001b[1;33m[\u001b[0m\u001b[0msort_index\u001b[0m\u001b[1;33m]\u001b[0m\u001b[1;33m)\u001b[0m\u001b[1;33m\u001b[0m\u001b[1;33m\u001b[0m\u001b[0m\n\u001b[0;32m    164\u001b[0m \u001b[1;33m\u001b[0m\u001b[0m\n\u001b[1;32m--> 165\u001b[1;33m     \u001b[0mres\u001b[0m \u001b[1;33m=\u001b[0m \u001b[0m_lowess\u001b[0m\u001b[1;33m(\u001b[0m\u001b[0my\u001b[0m\u001b[1;33m,\u001b[0m \u001b[0mx\u001b[0m\u001b[1;33m,\u001b[0m \u001b[0mfrac\u001b[0m\u001b[1;33m=\u001b[0m\u001b[0mfrac\u001b[0m\u001b[1;33m,\u001b[0m \u001b[0mit\u001b[0m\u001b[1;33m=\u001b[0m\u001b[0mit\u001b[0m\u001b[1;33m,\u001b[0m \u001b[0mdelta\u001b[0m\u001b[1;33m=\u001b[0m\u001b[0mdelta\u001b[0m\u001b[1;33m)\u001b[0m\u001b[1;33m\u001b[0m\u001b[1;33m\u001b[0m\u001b[0m\n\u001b[0m\u001b[0;32m    166\u001b[0m     \u001b[0m_\u001b[0m\u001b[1;33m,\u001b[0m \u001b[0myfitted\u001b[0m \u001b[1;33m=\u001b[0m \u001b[0mres\u001b[0m\u001b[1;33m.\u001b[0m\u001b[0mT\u001b[0m\u001b[1;33m\u001b[0m\u001b[1;33m\u001b[0m\u001b[0m\n\u001b[0;32m    167\u001b[0m \u001b[1;33m\u001b[0m\u001b[0m\n",
      "\u001b[1;32mstatsmodels/nonparametric/_smoothers_lowess.pyx\u001b[0m in \u001b[0;36mstatsmodels.nonparametric._smoothers_lowess.lowess\u001b[1;34m()\u001b[0m\n",
      "\u001b[1;32mstatsmodels/nonparametric/_smoothers_lowess.pyx\u001b[0m in \u001b[0;36mstatsmodels.nonparametric._smoothers_lowess.calculate_weights\u001b[1;34m()\u001b[0m\n",
      "\u001b[1;32m~\\Anaconda3\\lib\\site-packages\\numpy\\core\\fromnumeric.py\u001b[0m in \u001b[0;36msum\u001b[1;34m(a, axis, dtype, out, keepdims, initial)\u001b[0m\n\u001b[0;32m   1964\u001b[0m \u001b[1;33m\u001b[0m\u001b[0m\n\u001b[0;32m   1965\u001b[0m \u001b[1;33m\u001b[0m\u001b[0m\n\u001b[1;32m-> 1966\u001b[1;33m \u001b[1;33m@\u001b[0m\u001b[0marray_function_dispatch\u001b[0m\u001b[1;33m(\u001b[0m\u001b[0m_sum_dispatcher\u001b[0m\u001b[1;33m)\u001b[0m\u001b[1;33m\u001b[0m\u001b[1;33m\u001b[0m\u001b[0m\n\u001b[0m\u001b[0;32m   1967\u001b[0m \u001b[1;32mdef\u001b[0m \u001b[0msum\u001b[0m\u001b[1;33m(\u001b[0m\u001b[0ma\u001b[0m\u001b[1;33m,\u001b[0m \u001b[0maxis\u001b[0m\u001b[1;33m=\u001b[0m\u001b[1;32mNone\u001b[0m\u001b[1;33m,\u001b[0m \u001b[0mdtype\u001b[0m\u001b[1;33m=\u001b[0m\u001b[1;32mNone\u001b[0m\u001b[1;33m,\u001b[0m \u001b[0mout\u001b[0m\u001b[1;33m=\u001b[0m\u001b[1;32mNone\u001b[0m\u001b[1;33m,\u001b[0m \u001b[0mkeepdims\u001b[0m\u001b[1;33m=\u001b[0m\u001b[0mnp\u001b[0m\u001b[1;33m.\u001b[0m\u001b[0m_NoValue\u001b[0m\u001b[1;33m,\u001b[0m \u001b[0minitial\u001b[0m\u001b[1;33m=\u001b[0m\u001b[0mnp\u001b[0m\u001b[1;33m.\u001b[0m\u001b[0m_NoValue\u001b[0m\u001b[1;33m)\u001b[0m\u001b[1;33m:\u001b[0m\u001b[1;33m\u001b[0m\u001b[1;33m\u001b[0m\u001b[0m\n\u001b[0;32m   1968\u001b[0m     \"\"\"\n",
      "\u001b[1;31mKeyboardInterrupt\u001b[0m: "
     ]
    },
    {
     "data": {
      "image/png": "[encoded data removed]",
      "text/plain": [
       "<Figure size 432x288 with 1 Axes>"
      ]
     },
     "metadata": {},
     "output_type": "display_data"
    }
   ],
   "source": [
    "ax = sns.residplot(d.Predictions, residuals, lowess = True, color = 'g')\n",
    "ax.set(xlabel = 'Fitted value', ylabel = 'Residuals', title = 'Residual vs Fitted Plot \\n')\n",
    "plt.show()"
   ]
  },
  {
   "cell_type": "code",
   "execution_count": 10,
   "metadata": {},
   "outputs": [
    {
     "data": {
      "text/plain": [
       "<matplotlib.axes._subplots.AxesSubplot at 0xee3c708>"
      ]
     },
     "execution_count": 10,
     "metadata": {},
     "output_type": "execute_result"
    },
    {
     "data": {
      "image/png": "[encoded data removed]",
      "text/plain": [
       "<Figure size 432x288 with 1 Axes>"
      ]
     },
     "metadata": {},
     "output_type": "display_data"
    }
   ],
   "source": [
    "sns.set(style = 'whitegrid')\n",
    "sns.distplot(residuals)"
   ]
  },
  {
   "cell_type": "code",
   "execution_count": 11,
   "metadata": {},
   "outputs": [
    {
     "data": {
      "text/html": [
       "<div>\n",
       "<style scoped>\n",
       "    .dataframe tbody tr th:only-of-type {\n",
       "        vertical-align: middle;\n",
       "    }\n",
       "\n",
       "    .dataframe tbody tr th {\n",
       "        vertical-align: top;\n",
       "    }\n",
       "\n",
       "    .dataframe thead th {\n",
       "        text-align: right;\n",
       "    }\n",
       "</style>\n",
       "<table border=\"1\" class=\"dataframe\">\n",
       "  <thead>\n",
       "    <tr style=\"text-align: right;\">\n",
       "      <th></th>\n",
       "      <th>mass_npea</th>\n",
       "      <th>size_npear</th>\n",
       "      <th>malign_ratio</th>\n",
       "      <th>damage_size</th>\n",
       "      <th>exposed_area</th>\n",
       "      <th>std_dev_malign</th>\n",
       "      <th>err_malign</th>\n",
       "      <th>malign_penalty</th>\n",
       "      <th>damage_ratio</th>\n",
       "      <th>Predictions</th>\n",
       "    </tr>\n",
       "  </thead>\n",
       "  <tbody>\n",
       "    <tr>\n",
       "      <td>0</td>\n",
       "      <td>83.252027</td>\n",
       "      <td>54.027956</td>\n",
       "      <td>0.648968</td>\n",
       "      <td>7.199292</td>\n",
       "      <td>994.399018</td>\n",
       "      <td>10.463604</td>\n",
       "      <td>52.523899</td>\n",
       "      <td>8.485281</td>\n",
       "      <td>6.273914</td>\n",
       "      <td>3.569433</td>\n",
       "    </tr>\n",
       "    <tr>\n",
       "      <td>1</td>\n",
       "      <td>125.042793</td>\n",
       "      <td>69.852416</td>\n",
       "      <td>0.558623</td>\n",
       "      <td>14.951589</td>\n",
       "      <td>1434.721681</td>\n",
       "      <td>15.775963</td>\n",
       "      <td>77.152641</td>\n",
       "      <td>15.491933</td>\n",
       "      <td>4.693112</td>\n",
       "      <td>2.231259</td>\n",
       "    </tr>\n",
       "    <tr>\n",
       "      <td>2</td>\n",
       "      <td>101.863634</td>\n",
       "      <td>51.126119</td>\n",
       "      <td>0.501906</td>\n",
       "      <td>11.284370</td>\n",
       "      <td>1197.779654</td>\n",
       "      <td>12.652786</td>\n",
       "      <td>68.082744</td>\n",
       "      <td>8.544004</td>\n",
       "      <td>5.476888</td>\n",
       "      <td>2.044007</td>\n",
       "    </tr>\n",
       "    <tr>\n",
       "      <td>3</td>\n",
       "      <td>114.428143</td>\n",
       "      <td>67.156980</td>\n",
       "      <td>0.586890</td>\n",
       "      <td>12.467558</td>\n",
       "      <td>1346.177991</td>\n",
       "      <td>13.153517</td>\n",
       "      <td>72.621416</td>\n",
       "      <td>5.656854</td>\n",
       "      <td>5.304281</td>\n",
       "      <td>2.753643</td>\n",
       "    </tr>\n",
       "    <tr>\n",
       "      <td>4</td>\n",
       "      <td>86.863168</td>\n",
       "      <td>53.687615</td>\n",
       "      <td>0.618070</td>\n",
       "      <td>9.226251</td>\n",
       "      <td>1021.722810</td>\n",
       "      <td>11.154102</td>\n",
       "      <td>57.125739</td>\n",
       "      <td>7.549834</td>\n",
       "      <td>5.917770</td>\n",
       "      <td>2.969404</td>\n",
       "    </tr>\n",
       "  </tbody>\n",
       "</table>\n",
       "</div>"
      ],
      "text/plain": [
       "    mass_npea  size_npear  malign_ratio  damage_size  exposed_area  \\\n",
       "0   83.252027   54.027956      0.648968     7.199292    994.399018   \n",
       "1  125.042793   69.852416      0.558623    14.951589   1434.721681   \n",
       "2  101.863634   51.126119      0.501906    11.284370   1197.779654   \n",
       "3  114.428143   67.156980      0.586890    12.467558   1346.177991   \n",
       "4   86.863168   53.687615      0.618070     9.226251   1021.722810   \n",
       "\n",
       "   std_dev_malign  err_malign  malign_penalty  damage_ratio  Predictions  \n",
       "0       10.463604   52.523899        8.485281      6.273914     3.569433  \n",
       "1       15.775963   77.152641       15.491933      4.693112     2.231259  \n",
       "2       12.652786   68.082744        8.544004      5.476888     2.044007  \n",
       "3       13.153517   72.621416        5.656854      5.304281     2.753643  \n",
       "4       11.154102   57.125739        7.549834      5.917770     2.969404  "
      ]
     },
     "execution_count": 11,
     "metadata": {},
     "output_type": "execute_result"
    }
   ],
   "source": [
    "final_df = d.transform(lambda x: x ** 0.5)   # Applying sqrt Transformation.\n",
    "\n",
    "final_df.head()"
   ]
  },
  {
   "cell_type": "code",
   "execution_count": 12,
   "metadata": {},
   "outputs": [],
   "source": [
    "test_final = test.transform(lambda x : x ** 0.5)"
   ]
  },
  {
   "cell_type": "code",
   "execution_count": 13,
   "metadata": {},
   "outputs": [
    {
     "data": {
      "text/html": [
       "<table class=\"simpletable\">\n",
       "<caption>OLS Regression Results</caption>\n",
       "<tr>\n",
       "  <th>Dep. Variable:</th>       <td>tumor_size</td>    <th>  R-squared:         </th> <td>   0.303</td> \n",
       "</tr>\n",
       "<tr>\n",
       "  <th>Model:</th>                   <td>OLS</td>       <th>  Adj. R-squared:    </th> <td>   0.303</td> \n",
       "</tr>\n",
       "<tr>\n",
       "  <th>Method:</th>             <td>Least Squares</td>  <th>  F-statistic:       </th> <td>   441.7</td> \n",
       "</tr>\n",
       "<tr>\n",
       "  <th>Date:</th>             <td>Sat, 08 Aug 2020</td> <th>  Prob (F-statistic):</th>  <td>  0.00</td>  \n",
       "</tr>\n",
       "<tr>\n",
       "  <th>Time:</th>                 <td>20:41:44</td>     <th>  Log-Likelihood:    </th> <td> -27844.</td> \n",
       "</tr>\n",
       "<tr>\n",
       "  <th>No. Observations:</th>      <td>  9146</td>      <th>  AIC:               </th> <td>5.571e+04</td>\n",
       "</tr>\n",
       "<tr>\n",
       "  <th>Df Residuals:</th>          <td>  9136</td>      <th>  BIC:               </th> <td>5.578e+04</td>\n",
       "</tr>\n",
       "<tr>\n",
       "  <th>Df Model:</th>              <td>     9</td>      <th>                     </th>     <td> </td>    \n",
       "</tr>\n",
       "<tr>\n",
       "  <th>Covariance Type:</th>      <td>nonrobust</td>    <th>                     </th>     <td> </td>    \n",
       "</tr>\n",
       "</table>\n",
       "<table class=\"simpletable\">\n",
       "<tr>\n",
       "    <td></td>       <th>coef</th>     <th>std err</th>      <th>t</th>      <th>P>|t|</th>  <th>[0.025</th>    <th>0.975]</th>  \n",
       "</tr>\n",
       "<tr>\n",
       "  <th>const</th> <td>    7.7233</td> <td>    0.053</td> <td>  145.300</td> <td> 0.000</td> <td>    7.619</td> <td>    7.828</td>\n",
       "</tr>\n",
       "<tr>\n",
       "  <th>x1</th>    <td>    5.3350</td> <td>    1.204</td> <td>    4.430</td> <td> 0.000</td> <td>    2.974</td> <td>    7.696</td>\n",
       "</tr>\n",
       "<tr>\n",
       "  <th>x2</th>    <td>    5.6409</td> <td>    0.679</td> <td>    8.303</td> <td> 0.000</td> <td>    4.309</td> <td>    6.973</td>\n",
       "</tr>\n",
       "<tr>\n",
       "  <th>x3</th>    <td>   -0.5269</td> <td>    0.289</td> <td>   -1.823</td> <td> 0.068</td> <td>   -1.094</td> <td>    0.040</td>\n",
       "</tr>\n",
       "<tr>\n",
       "  <th>x4</th>    <td>   -6.5605</td> <td>    0.202</td> <td>  -32.502</td> <td> 0.000</td> <td>   -6.956</td> <td>   -6.165</td>\n",
       "</tr>\n",
       "<tr>\n",
       "  <th>x5</th>    <td>   -2.7806</td> <td>    0.902</td> <td>   -3.081</td> <td> 0.002</td> <td>   -4.549</td> <td>   -1.012</td>\n",
       "</tr>\n",
       "<tr>\n",
       "  <th>x6</th>    <td>   -2.1533</td> <td>    0.276</td> <td>   -7.798</td> <td> 0.000</td> <td>   -2.695</td> <td>   -1.612</td>\n",
       "</tr>\n",
       "<tr>\n",
       "  <th>x7</th>    <td>   -0.4553</td> <td>    0.094</td> <td>   -4.834</td> <td> 0.000</td> <td>   -0.640</td> <td>   -0.271</td>\n",
       "</tr>\n",
       "<tr>\n",
       "  <th>x8</th>    <td>    1.0618</td> <td>    0.073</td> <td>   14.622</td> <td> 0.000</td> <td>    0.919</td> <td>    1.204</td>\n",
       "</tr>\n",
       "<tr>\n",
       "  <th>x9</th>    <td>   -0.3713</td> <td>    0.147</td> <td>   -2.527</td> <td> 0.012</td> <td>   -0.659</td> <td>   -0.083</td>\n",
       "</tr>\n",
       "</table>\n",
       "<table class=\"simpletable\">\n",
       "<tr>\n",
       "  <th>Omnibus:</th>       <td>319.179</td> <th>  Durbin-Watson:     </th> <td>   2.049</td>\n",
       "</tr>\n",
       "<tr>\n",
       "  <th>Prob(Omnibus):</th> <td> 0.000</td>  <th>  Jarque-Bera (JB):  </th> <td> 337.157</td>\n",
       "</tr>\n",
       "<tr>\n",
       "  <th>Skew:</th>          <td> 0.451</td>  <th>  Prob(JB):          </th> <td>6.13e-74</td>\n",
       "</tr>\n",
       "<tr>\n",
       "  <th>Kurtosis:</th>      <td> 2.734</td>  <th>  Cond. No.          </th> <td>    73.2</td>\n",
       "</tr>\n",
       "</table><br/><br/>Warnings:<br/>[1] Standard Errors assume that the covariance matrix of the errors is correctly specified."
      ],
      "text/plain": [
       "<class 'statsmodels.iolib.summary.Summary'>\n",
       "\"\"\"\n",
       "                            OLS Regression Results                            \n",
       "==============================================================================\n",
       "Dep. Variable:             tumor_size   R-squared:                       0.303\n",
       "Model:                            OLS   Adj. R-squared:                  0.303\n",
       "Method:                 Least Squares   F-statistic:                     441.7\n",
       "Date:                Sat, 08 Aug 2020   Prob (F-statistic):               0.00\n",
       "Time:                        20:41:44   Log-Likelihood:                -27844.\n",
       "No. Observations:                9146   AIC:                         5.571e+04\n",
       "Df Residuals:                    9136   BIC:                         5.578e+04\n",
       "Df Model:                           9                                         \n",
       "Covariance Type:            nonrobust                                         \n",
       "==============================================================================\n",
       "                 coef    std err          t      P>|t|      [0.025      0.975]\n",
       "------------------------------------------------------------------------------\n",
       "const          7.7233      0.053    145.300      0.000       7.619       7.828\n",
       "x1             5.3350      1.204      4.430      0.000       2.974       7.696\n",
       "x2             5.6409      0.679      8.303      0.000       4.309       6.973\n",
       "x3            -0.5269      0.289     -1.823      0.068      -1.094       0.040\n",
       "x4            -6.5605      0.202    -32.502      0.000      -6.956      -6.165\n",
       "x5            -2.7806      0.902     -3.081      0.002      -4.549      -1.012\n",
       "x6            -2.1533      0.276     -7.798      0.000      -2.695      -1.612\n",
       "x7            -0.4553      0.094     -4.834      0.000      -0.640      -0.271\n",
       "x8             1.0618      0.073     14.622      0.000       0.919       1.204\n",
       "x9            -0.3713      0.147     -2.527      0.012      -0.659      -0.083\n",
       "==============================================================================\n",
       "Omnibus:                      319.179   Durbin-Watson:                   2.049\n",
       "Prob(Omnibus):                  0.000   Jarque-Bera (JB):              337.157\n",
       "Skew:                           0.451   Prob(JB):                     6.13e-74\n",
       "Kurtosis:                       2.734   Cond. No.                         73.2\n",
       "==============================================================================\n",
       "\n",
       "Warnings:\n",
       "[1] Standard Errors assume that the covariance matrix of the errors is correctly specified.\n",
       "\"\"\""
      ]
     },
     "execution_count": 13,
     "metadata": {},
     "output_type": "execute_result"
    }
   ],
   "source": [
    "final_train = final_df.drop('Predictions',axis = 1)\n",
    "trains1 = sc.fit_transform(final_train)\n",
    "tests1 = sc.transform(test_final)\n",
    "X_const = sm.add_constant(trains1)\n",
    "model1 = sm.OLS(y, X_const).fit()\n",
    "\n",
    "model1.summary()"
   ]
  },
  {
   "cell_type": "code",
   "execution_count": 17,
   "metadata": {},
   "outputs": [],
   "source": [
    "xgb=XGBRegressor(\n",
    " learning_rate =0.01,\n",
    " n_estimators=2000,\n",
    " max_depth=10,\n",
    " colsample_bytree=0.8,\n",
    " seed=100)\n",
    "xgb_model=xgb.fit(trains1,y)"
   ]
  },
  {
   "cell_type": "code",
   "execution_count": 18,
   "metadata": {},
   "outputs": [],
   "source": [
    "xgb_results= cross_val_score(xgb, trains1, y,cv=5, scoring='neg_root_mean_squared_error')"
   ]
  },
  {
   "cell_type": "code",
   "execution_count": 19,
   "metadata": {},
   "outputs": [
    {
     "data": {
      "text/plain": [
       "-4.020147700713803"
      ]
     },
     "execution_count": 19,
     "metadata": {},
     "output_type": "execute_result"
    }
   ],
   "source": [
    "np.mean(xgb_results)  # score - 3.99"
   ]
  },
  {
   "cell_type": "code",
   "execution_count": null,
   "metadata": {},
   "outputs": [],
   "source": [
    "final_train    test_final"
   ]
  },
  {
   "cell_type": "code",
   "execution_count": 22,
   "metadata": {},
   "outputs": [],
   "source": [
    "train2 = final_train.drop('exposed_area',axis =1 )\n",
    "test2 = test_final.drop('exposed_area',axis = 1)\n",
    "trains2 = sc.fit_transform(train2)\n",
    "tests2 = sc.transform(test2)"
   ]
  },
  {
   "cell_type": "code",
   "execution_count": 21,
   "metadata": {},
   "outputs": [],
   "source": [
    "xgb=XGBRegressor(\n",
    " learning_rate =0.01,\n",
    " n_estimators=2000,\n",
    " max_depth=10,\n",
    " colsample_bytree=0.8,\n",
    " seed=100)\n",
    "xgb_model1=xgb.fit(trains2,y)"
   ]
  },
  {
   "cell_type": "code",
   "execution_count": 22,
   "metadata": {},
   "outputs": [],
   "source": [
    "xgb_results1= cross_val_score(xgb, trains2, y,cv=5, scoring='neg_root_mean_squared_error')"
   ]
  },
  {
   "cell_type": "code",
   "execution_count": 23,
   "metadata": {},
   "outputs": [
    {
     "data": {
      "text/plain": [
       "-4.029891155372653"
      ]
     },
     "execution_count": 23,
     "metadata": {},
     "output_type": "execute_result"
    }
   ],
   "source": [
    "np.mean(xgb_results1)"
   ]
  },
  {
   "cell_type": "code",
   "execution_count": null,
   "metadata": {},
   "outputs": [],
   "source": [
    "ypred_xgb1 = xgb_model1.predict(tests2)"
   ]
  },
  {
   "cell_type": "code",
   "execution_count": 24,
   "metadata": {},
   "outputs": [],
   "source": [
    "ypred_xgb = xgb_model.predict(tests1)"
   ]
  },
  {
   "cell_type": "code",
   "execution_count": 26,
   "metadata": {},
   "outputs": [],
   "source": [
    "tum1 =pd.DataFrame(abs(ypred_xgb),columns=['tumor_size'])"
   ]
  },
  {
   "cell_type": "code",
   "execution_count": 28,
   "metadata": {},
   "outputs": [],
   "source": [
    "tum1.to_excel('D:\\sub.xlsx',index=False)  #3.99"
   ]
  },
  {
   "cell_type": "code",
   "execution_count": 24,
   "metadata": {},
   "outputs": [],
   "source": [
    "X = final_train.copy(deep = True)\n"
   ]
  },
  {
   "cell_type": "code",
   "execution_count": 25,
   "metadata": {},
   "outputs": [],
   "source": [
    "from sklearn.model_selection import train_test_split\n",
    "X_train,X_test,y_train,y_test=train_test_split(X,y,test_size=0.3,random_state=42)"
   ]
  },
  {
   "cell_type": "code",
   "execution_count": 26,
   "metadata": {},
   "outputs": [],
   "source": [
    "X_trains = sc.fit_transform(X_train)\n",
    "X_tests = sc.transform(X_test)"
   ]
  },
  {
   "cell_type": "code",
   "execution_count": 27,
   "metadata": {},
   "outputs": [],
   "source": [
    "from lightgbm import LGBMRegressor\n",
    "lgb_fit_params={\"early_stopping_rounds\":400, \n",
    "            \"eval_metric\" : 'rmse', \n",
    "            \"eval_set\" : [(X_tests,y_test)],\n",
    "            'eval_names': ['valid'],\n",
    "            'verbose':100\n",
    "           }\n",
    "lgb_params = {'boosting_type': 'gbdt',\n",
    " 'objective': 'regression',\n",
    " 'metric': 'rmse',\n",
    " 'verbose': 0,\n",
    " 'bagging_fraction': 0.8,\n",
    " 'bagging_freq': 1,\n",
    " 'lambda_l1': 0.01,\n",
    " 'lambda_l2': 0.01,\n",
    " 'learning_rate': 0.01,\n",
    " 'max_bin': 255,\n",
    " 'max_depth': 10,\n",
    " 'min_data_in_bin': 1,\n",
    " 'min_data_in_leaf': 1,\n",
    " 'num_leaves': 31}"
   ]
  },
  {
   "cell_type": "code",
   "execution_count": 28,
   "metadata": {},
   "outputs": [
    {
     "name": "stdout",
     "output_type": "stream",
     "text": [
      "Training until validation scores don't improve for 400 rounds\n",
      "[100]\tvalid's rmse: 4.95866\n",
      "[200]\tvalid's rmse: 4.61579\n",
      "[300]\tvalid's rmse: 4.45705\n",
      "[400]\tvalid's rmse: 4.36616\n",
      "[500]\tvalid's rmse: 4.30617\n",
      "[600]\tvalid's rmse: 4.26194\n",
      "[700]\tvalid's rmse: 4.22688\n",
      "[800]\tvalid's rmse: 4.19355\n",
      "[900]\tvalid's rmse: 4.16882\n",
      "[1000]\tvalid's rmse: 4.14564\n",
      "[1100]\tvalid's rmse: 4.12764\n",
      "[1200]\tvalid's rmse: 4.11025\n",
      "[1300]\tvalid's rmse: 4.09677\n",
      "[1400]\tvalid's rmse: 4.08421\n",
      "[1500]\tvalid's rmse: 4.07255\n",
      "[1600]\tvalid's rmse: 4.06053\n",
      "[1700]\tvalid's rmse: 4.04912\n",
      "[1800]\tvalid's rmse: 4.03941\n",
      "[1900]\tvalid's rmse: 4.03116\n",
      "[2000]\tvalid's rmse: 4.02564\n",
      "[2100]\tvalid's rmse: 4.01907\n",
      "[2200]\tvalid's rmse: 4.01435\n",
      "[2300]\tvalid's rmse: 4.0089\n",
      "[2400]\tvalid's rmse: 4.00415\n",
      "[2500]\tvalid's rmse: 3.99867\n",
      "[2600]\tvalid's rmse: 3.99345\n",
      "[2700]\tvalid's rmse: 3.99051\n",
      "[2800]\tvalid's rmse: 3.98644\n",
      "[2900]\tvalid's rmse: 3.98415\n",
      "[3000]\tvalid's rmse: 3.9824\n",
      "[3100]\tvalid's rmse: 3.97969\n",
      "[3200]\tvalid's rmse: 3.97804\n",
      "[3300]\tvalid's rmse: 3.97434\n",
      "[3400]\tvalid's rmse: 3.97195\n",
      "[3500]\tvalid's rmse: 3.96962\n",
      "[3600]\tvalid's rmse: 3.96712\n",
      "[3700]\tvalid's rmse: 3.96502\n",
      "[3800]\tvalid's rmse: 3.96245\n",
      "[3900]\tvalid's rmse: 3.95985\n",
      "[4000]\tvalid's rmse: 3.95753\n",
      "[4100]\tvalid's rmse: 3.95524\n",
      "[4200]\tvalid's rmse: 3.95351\n",
      "[4300]\tvalid's rmse: 3.95231\n",
      "[4400]\tvalid's rmse: 3.95033\n",
      "[4500]\tvalid's rmse: 3.94895\n",
      "[4600]\tvalid's rmse: 3.94719\n",
      "[4700]\tvalid's rmse: 3.9467\n",
      "[4800]\tvalid's rmse: 3.94599\n",
      "[4900]\tvalid's rmse: 3.94461\n",
      "[5000]\tvalid's rmse: 3.94319\n",
      "[5100]\tvalid's rmse: 3.94312\n",
      "[5200]\tvalid's rmse: 3.94217\n",
      "[5300]\tvalid's rmse: 3.94124\n",
      "[5400]\tvalid's rmse: 3.93989\n",
      "[5500]\tvalid's rmse: 3.93932\n",
      "[5600]\tvalid's rmse: 3.93808\n",
      "[5700]\tvalid's rmse: 3.93742\n",
      "[5800]\tvalid's rmse: 3.93648\n",
      "[5900]\tvalid's rmse: 3.93595\n",
      "[6000]\tvalid's rmse: 3.93487\n",
      "[6100]\tvalid's rmse: 3.93432\n",
      "[6200]\tvalid's rmse: 3.93399\n",
      "[6300]\tvalid's rmse: 3.93369\n",
      "[6400]\tvalid's rmse: 3.93327\n",
      "[6500]\tvalid's rmse: 3.93303\n",
      "[6600]\tvalid's rmse: 3.93282\n",
      "[6700]\tvalid's rmse: 3.93249\n",
      "[6800]\tvalid's rmse: 3.93248\n",
      "[6900]\tvalid's rmse: 3.93201\n",
      "[7000]\tvalid's rmse: 3.93161\n",
      "[7100]\tvalid's rmse: 3.93176\n",
      "[7200]\tvalid's rmse: 3.9316\n",
      "[7300]\tvalid's rmse: 3.93091\n",
      "[7400]\tvalid's rmse: 3.9305\n",
      "[7500]\tvalid's rmse: 3.92997\n",
      "[7600]\tvalid's rmse: 3.92963\n",
      "[7700]\tvalid's rmse: 3.92925\n",
      "[7800]\tvalid's rmse: 3.92864\n",
      "[7900]\tvalid's rmse: 3.92811\n",
      "[8000]\tvalid's rmse: 3.92744\n",
      "[8100]\tvalid's rmse: 3.92684\n",
      "[8200]\tvalid's rmse: 3.92614\n",
      "[8300]\tvalid's rmse: 3.92607\n",
      "[8400]\tvalid's rmse: 3.92566\n",
      "[8500]\tvalid's rmse: 3.92531\n",
      "[8600]\tvalid's rmse: 3.92498\n",
      "[8700]\tvalid's rmse: 3.92488\n",
      "[8800]\tvalid's rmse: 3.92482\n",
      "[8900]\tvalid's rmse: 3.92482\n",
      "[9000]\tvalid's rmse: 3.92431\n",
      "[9100]\tvalid's rmse: 3.92425\n",
      "[9200]\tvalid's rmse: 3.92418\n",
      "[9300]\tvalid's rmse: 3.92391\n",
      "[9400]\tvalid's rmse: 3.92381\n",
      "[9500]\tvalid's rmse: 3.92361\n",
      "[9600]\tvalid's rmse: 3.92371\n",
      "[9700]\tvalid's rmse: 3.92341\n",
      "[9800]\tvalid's rmse: 3.92319\n",
      "[9900]\tvalid's rmse: 3.92295\n",
      "[10000]\tvalid's rmse: 3.92279\n",
      "[10100]\tvalid's rmse: 3.92279\n",
      "[10200]\tvalid's rmse: 3.92249\n",
      "[10300]\tvalid's rmse: 3.9227\n",
      "[10400]\tvalid's rmse: 3.92251\n",
      "[10500]\tvalid's rmse: 3.92235\n",
      "[10600]\tvalid's rmse: 3.92227\n",
      "[10700]\tvalid's rmse: 3.92224\n",
      "[10800]\tvalid's rmse: 3.92217\n",
      "[10900]\tvalid's rmse: 3.92215\n",
      "[11000]\tvalid's rmse: 3.9221\n",
      "[11100]\tvalid's rmse: 3.92221\n",
      "[11200]\tvalid's rmse: 3.92222\n",
      "[11300]\tvalid's rmse: 3.92214\n",
      "[11400]\tvalid's rmse: 3.9222\n",
      "[11500]\tvalid's rmse: 3.92216\n",
      "[11600]\tvalid's rmse: 3.92186\n",
      "[11700]\tvalid's rmse: 3.92174\n",
      "[11800]\tvalid's rmse: 3.92183\n",
      "[11900]\tvalid's rmse: 3.92164\n",
      "[12000]\tvalid's rmse: 3.92177\n",
      "[12100]\tvalid's rmse: 3.92176\n",
      "[12200]\tvalid's rmse: 3.92159\n",
      "[12300]\tvalid's rmse: 3.92148\n",
      "[12400]\tvalid's rmse: 3.92141\n",
      "[12500]\tvalid's rmse: 3.92142\n",
      "[12600]\tvalid's rmse: 3.92142\n",
      "[12700]\tvalid's rmse: 3.92152\n",
      "[12800]\tvalid's rmse: 3.92142\n",
      "[12900]\tvalid's rmse: 3.92126\n",
      "[13000]\tvalid's rmse: 3.9212\n",
      "[13100]\tvalid's rmse: 3.92109\n",
      "[13200]\tvalid's rmse: 3.92106\n",
      "[13300]\tvalid's rmse: 3.92085\n",
      "[13400]\tvalid's rmse: 3.92086\n",
      "[13500]\tvalid's rmse: 3.92084\n",
      "[13600]\tvalid's rmse: 3.92078\n",
      "[13700]\tvalid's rmse: 3.92068\n",
      "[13800]\tvalid's rmse: 3.92074\n",
      "[13900]\tvalid's rmse: 3.92061\n",
      "[14000]\tvalid's rmse: 3.92034\n",
      "[14100]\tvalid's rmse: 3.92036\n",
      "[14200]\tvalid's rmse: 3.9202\n",
      "[14300]\tvalid's rmse: 3.92012\n",
      "[14400]\tvalid's rmse: 3.92023\n",
      "[14500]\tvalid's rmse: 3.92035\n",
      "[14600]\tvalid's rmse: 3.92042\n",
      "Early stopping, best iteration is:\n",
      "[14271]\tvalid's rmse: 3.92008\n"
     ]
    },
    {
     "data": {
      "text/plain": [
       "14271"
      ]
     },
     "execution_count": 28,
     "metadata": {},
     "output_type": "execute_result"
    }
   ],
   "source": [
    "\n",
    "from lightgbm import LGBMRegressor\n",
    "\n",
    "lgb = LGBMRegressor(n_estimators=20000, **lgb_params, random_state=123456789, n_jobs=-1)\n",
    "lgb.fit(X_trains, y_train, **lgb_fit_params)\n",
    "lgb.best_iteration_"
   ]
  },
  {
   "cell_type": "code",
   "execution_count": 29,
   "metadata": {},
   "outputs": [],
   "source": [
    "\n",
    "clf_lgb=LGBMRegressor(n_estimators=int(lgb.best_iteration_*1.2), **lgb_params)\n",
    "lgb_model=clf_lgb.fit(trains1, y)"
   ]
  },
  {
   "cell_type": "code",
   "execution_count": 30,
   "metadata": {},
   "outputs": [],
   "source": [
    "lgb_score=cross_val_score(X=trains1,y=y,estimator=clf_lgb,scoring='neg_root_mean_squared_error',cv=5)"
   ]
  },
  {
   "cell_type": "code",
   "execution_count": 31,
   "metadata": {},
   "outputs": [
    {
     "data": {
      "text/plain": [
       "-3.946834750903026"
      ]
     },
     "execution_count": 31,
     "metadata": {},
     "output_type": "execute_result"
    }
   ],
   "source": [
    "np.mean(lgb_score)"
   ]
  },
  {
   "cell_type": "code",
   "execution_count": 32,
   "metadata": {},
   "outputs": [],
   "source": [
    "ypred_lgb = lgb_model.predict(tests1)"
   ]
  },
  {
   "cell_type": "code",
   "execution_count": 34,
   "metadata": {},
   "outputs": [],
   "source": [
    "tum = pd.DataFrame(abs(ypred_lgb),columns=['tumor_size'])"
   ]
  },
  {
   "cell_type": "code",
   "execution_count": 35,
   "metadata": {},
   "outputs": [],
   "source": [
    "tum.to_excel('D:\\sub4.xlsx',index=False)"
   ]
  },
  {
   "cell_type": "code",
   "execution_count": 39,
   "metadata": {},
   "outputs": [],
   "source": [
    "ypred = (0.8 * ypred_lgb) + (0.2 * ypred_xgb)"
   ]
  },
  {
   "cell_type": "code",
   "execution_count": 40,
   "metadata": {},
   "outputs": [],
   "source": [
    "tum2 =pd.DataFrame(abs(ypred),columns=['tumor_size'])"
   ]
  },
  {
   "cell_type": "code",
   "execution_count": 41,
   "metadata": {},
   "outputs": [],
   "source": [
    "tum2.to_excel('D:\\sub1.xlsx',index=False) #3.951"
   ]
  },
  {
   "cell_type": "code",
   "execution_count": 45,
   "metadata": {},
   "outputs": [],
   "source": [
    "ext = ExtraTreesRegressor(n_estimators = 4000,random_state = 42,max_depth = 10)"
   ]
  },
  {
   "cell_type": "code",
   "execution_count": 45,
   "metadata": {},
   "outputs": [],
   "source": [
    "xgb1=XGBRegressor(\n",
    " learning_rate =0.01,\n",
    " n_estimators=4000,\n",
    " max_depth=10,\n",
    " colsample_bytree=0.8,\n",
    " seed=100)\n",
    "xgb_model2=xgb1.fit(trains1,y)"
   ]
  },
  {
   "cell_type": "code",
   "execution_count": 46,
   "metadata": {},
   "outputs": [],
   "source": [
    "xgb_results3= cross_val_score(xgb1, trains1, y,cv=5, scoring='neg_root_mean_squared_error')"
   ]
  },
  {
   "cell_type": "code",
   "execution_count": 47,
   "metadata": {},
   "outputs": [
    {
     "data": {
      "text/plain": [
       "-4.010011494606262"
      ]
     },
     "execution_count": 47,
     "metadata": {},
     "output_type": "execute_result"
    }
   ],
   "source": [
    "np.mean(xgb_results3)"
   ]
  },
  {
   "cell_type": "code",
   "execution_count": 38,
   "metadata": {},
   "outputs": [],
   "source": [
    "ypred_xgb2 = xgb_model2.predict(tests1)"
   ]
  },
  {
   "cell_type": "code",
   "execution_count": 39,
   "metadata": {},
   "outputs": [],
   "source": [
    "ypred1 = (0.8 * ypred_lgb) + (0.2 * ypred_xgb2)"
   ]
  },
  {
   "cell_type": "code",
   "execution_count": 40,
   "metadata": {},
   "outputs": [],
   "source": [
    "tum3 =pd.DataFrame(abs(ypred1),columns=['tumor_size'])"
   ]
  },
  {
   "cell_type": "code",
   "execution_count": 41,
   "metadata": {},
   "outputs": [],
   "source": [
    "tum3.to_excel('D:\\sub5.xlsx',index=False) #3.94"
   ]
  },
  {
   "cell_type": "code",
   "execution_count": 55,
   "metadata": {},
   "outputs": [],
   "source": [
    "ypred2 = (0.6 * ypred_lgb) + (0.4 * ypred_xgb2)"
   ]
  },
  {
   "cell_type": "code",
   "execution_count": 57,
   "metadata": {},
   "outputs": [],
   "source": [
    "tum4 =pd.DataFrame(abs(ypred2),columns=['tumor_size'])"
   ]
  },
  {
   "cell_type": "code",
   "execution_count": 58,
   "metadata": {},
   "outputs": [],
   "source": [
    "tum4.to_excel('D:\\sub3.xlsx',index=False) "
   ]
  },
  {
   "cell_type": "code",
   "execution_count": 42,
   "metadata": {},
   "outputs": [],
   "source": [
    "ypred3 = (0.7 * ypred_lgb) + (0.3 * ypred_xgb2)"
   ]
  },
  {
   "cell_type": "code",
   "execution_count": 43,
   "metadata": {},
   "outputs": [],
   "source": [
    "tum4 =pd.DataFrame(abs(ypred3),columns=['tumor_size'])"
   ]
  },
  {
   "cell_type": "code",
   "execution_count": 44,
   "metadata": {},
   "outputs": [],
   "source": [
    "tum4.to_excel('D:\\sub6.xlsx',index=False)"
   ]
  },
  {
   "cell_type": "code",
   "execution_count": 14,
   "metadata": {},
   "outputs": [],
   "source": [
    "train3 = final_train.drop(['exposed_area','mass_npea'],axis =1 )\n",
    "test3 = test_final.drop(['exposed_area','mass_npea'],axis = 1)\n",
    "trains3 = sc.fit_transform(train3)\n",
    "tests3 = sc.transform(test3)"
   ]
  },
  {
   "cell_type": "code",
   "execution_count": 18,
   "metadata": {},
   "outputs": [],
   "source": [
    "xgb2=XGBRegressor(\n",
    " learning_rate =0.01,\n",
    " n_estimators=4000,\n",
    " max_depth=10,\n",
    " colsample_bytree=0.8,\n",
    " seed=100)\n",
    "xgb_model3=xgb2.fit(trains3,y)"
   ]
  },
  {
   "cell_type": "code",
   "execution_count": 19,
   "metadata": {},
   "outputs": [],
   "source": [
    "xgb_results4= cross_val_score(xgb2, trains3, y,cv=5, scoring='neg_root_mean_squared_error')"
   ]
  },
  {
   "cell_type": "code",
   "execution_count": 21,
   "metadata": {},
   "outputs": [
    {
     "data": {
      "text/plain": [
       "-4.073129494344839"
      ]
     },
     "execution_count": 21,
     "metadata": {},
     "output_type": "execute_result"
    }
   ],
   "source": [
    "np.mean(xgb_results4)"
   ]
  },
  {
   "cell_type": "code",
   "execution_count": 49,
   "metadata": {},
   "outputs": [],
   "source": [
    "from sklearn.ensemble import RandomForestRegressor"
   ]
  },
  {
   "cell_type": "code",
   "execution_count": 50,
   "metadata": {},
   "outputs": [],
   "source": [
    "rf = RandomForestRegressor(random_state=42,n_estimators = 000, min_samples_split=6,max_depth = 10)"
   ]
  },
  {
   "cell_type": "code",
   "execution_count": 51,
   "metadata": {},
   "outputs": [],
   "source": [
    "rf_results= cross_val_score(rf, trains1, y,cv=5, scoring='neg_root_mean_squared_error')"
   ]
  },
  {
   "cell_type": "code",
   "execution_count": 52,
   "metadata": {},
   "outputs": [
    {
     "data": {
      "text/plain": [
       "-4.32334218485799"
      ]
     },
     "execution_count": 52,
     "metadata": {},
     "output_type": "execute_result"
    }
   ],
   "source": [
    "np.mean(rf_results)"
   ]
  },
  {
   "cell_type": "code",
   "execution_count": 59,
   "metadata": {},
   "outputs": [],
   "source": [
    "ada = AdaBoostRegressor(n_estimators = 5000, random_state = 42,learning_rate = 0.01,base_estimator = rf)"
   ]
  },
  {
   "cell_type": "code",
   "execution_count": null,
   "metadata": {},
   "outputs": [],
   "source": [
    "ada_results= cross_val_score(ada, trains1, y,cv=5, scoring='neg_root_mean_squared_error')"
   ]
  },
  {
   "cell_type": "code",
   "execution_count": null,
   "metadata": {},
   "outputs": [],
   "source": [
    "np.mean(ada_results)"
   ]
  }
 ],
 "metadata": {
  "kernelspec": {
   "display_name": "Python 3",
   "language": "python",
   "name": "python3"
  },
  "language_info": {
   "codemirror_mode": {
    "name": "ipython",
    "version": 3
   },
   "file_extension": ".py",
   "mimetype": "text/x-python",
   "name": "python",
   "nbconvert_exporter": "python",
   "pygments_lexer": "ipython3",
   "version": "3.7.4"
  }
 },
 "nbformat": 4,
 "nbformat_minor": 2
}
